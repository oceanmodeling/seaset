{
 "cells": [
  {
   "cell_type": "markdown",
   "id": "388215ce",
   "metadata": {},
   "source": [
    "# Create unified catalog\n",
    "Update of the 31/07/2023 : author [tomsail](https://github.com/tomsail) (Thomas Saillour)"
   ]
  },
  {
   "cell_type": "code",
   "execution_count": null,
   "id": "0b6a042a",
   "metadata": {},
   "outputs": [],
   "source": [
    "import pandas as pd\n",
    "import geopandas as gp\n",
    "import numpy as np\n",
    "import matplotlib.pyplot as plt\n",
    "import shapely"
   ]
  },
  {
   "cell_type": "code",
   "execution_count": null,
   "id": "172e1330",
   "metadata": {},
   "outputs": [],
   "source": [
    "%matplotlib widget"
   ]
  },
  {
   "cell_type": "markdown",
   "id": "1852afe1",
   "metadata": {},
   "source": [
    "## COOPS"
   ]
  },
  {
   "cell_type": "code",
   "execution_count": null,
   "id": "ce01d2a4",
   "metadata": {},
   "outputs": [],
   "source": [
    "from searvey.coops import coops_stations\n",
    "\n",
    "coops = coops_stations()\n",
    "coops"
   ]
  },
  {
   "cell_type": "code",
   "execution_count": null,
   "id": "3da8142b",
   "metadata": {},
   "outputs": [],
   "source": [
    "### get lat/lon\n",
    "coops['lon'] = coops['geometry'].x\n",
    "coops['lat'] = coops['geometry'].y\n",
    "coops['nos_id'] = coops.index.astype(int).astype(str)"
   ]
  },
  {
   "cell_type": "code",
   "execution_count": null,
   "id": "f563736a",
   "metadata": {},
   "outputs": [],
   "source": [
    "coops = coops.drop('geometry',axis=1)\n",
    "coops"
   ]
  },
  {
   "cell_type": "markdown",
   "id": "316ff9ed",
   "metadata": {},
   "source": [
    "## IOC"
   ]
  },
  {
   "cell_type": "code",
   "execution_count": null,
   "id": "75a4007a",
   "metadata": {},
   "outputs": [],
   "source": [
    "from searvey import ioc\n",
    "ioc_stations = ioc.get_ioc_stations()\n",
    "ioc_stations['lon'] = ioc_stations['geometry'].x\n",
    "ioc_stations['lat'] = ioc_stations['geometry'].y\n",
    "ioc_stations = ioc_stations.drop('geometry',axis=1)\n",
    "# dropping all duplicates \n",
    "ioc_stations = ioc_stations.drop_duplicates(subset=['ioc_code'])\n",
    "ioc_stations"
   ]
  },
  {
   "cell_type": "markdown",
   "id": "c76abd8c",
   "metadata": {},
   "source": [
    "## EMODNET"
   ]
  },
  {
   "cell_type": "code",
   "execution_count": null,
   "id": "b7c9e63a",
   "metadata": {},
   "outputs": [],
   "source": [
    "emodnet = pd.read_csv('emodnet.csv')\n",
    "emodnet = emodnet.drop_duplicates(['EP_PLATFORM_CODE'])\n",
    "emodnet[~emodnet.EP_PLATFORM_ID.isna()]"
   ]
  },
  {
   "cell_type": "markdown",
   "id": "3b28ca0e",
   "metadata": {},
   "source": [
    "## CMEMS"
   ]
  },
  {
   "cell_type": "code",
   "execution_count": null,
   "id": "687f59b1",
   "metadata": {},
   "outputs": [],
   "source": [
    "cmems = pd.read_csv('cmems.csv')\n",
    "cmems = cmems.drop(cmems.columns[0],axis=1)\n",
    "cmems = cmems.drop_duplicates()"
   ]
  },
  {
   "cell_type": "markdown",
   "id": "a956761c",
   "metadata": {},
   "source": [
    "## GESLA\n",
    "### Initialize a GeslaDataset object\n",
    "First clone the following repository: `https://github.com/philiprt/GeslaDataset`.\n",
    "Also download the whole GESLA3 dataset at this url: `https://gesla787883612.wordpress.com/downloads/`. \n",
    "\n",
    "Then place the `gesla.py` file in your working directory (or elsewhere on your path), and import the `GeslaDataset` class. Selecting and loading data files requires paths to the metadata .csv file and the directory containing the data files. Initialize a `GeslaDataset` object with these paths as follows."
   ]
  },
  {
   "cell_type": "code",
   "execution_count": null,
   "id": "bffa3761",
   "metadata": {},
   "outputs": [],
   "source": [
    "meta_file = \"./GESLA3_ALL.csv\"\n",
    "data_path = \"GESLA3.0_ALL/\"\n",
    "from gesla import GeslaDataset\n",
    "\n",
    "g3 = GeslaDataset(meta_file=meta_file, data_path=data_path)"
   ]
  },
  {
   "cell_type": "markdown",
   "id": "2013b6b0",
   "metadata": {},
   "source": [
    "For possible future sources we can use gesla sources"
   ]
  },
  {
   "cell_type": "code",
   "execution_count": null,
   "id": "dd09f73a",
   "metadata": {},
   "outputs": [],
   "source": [
    "g3.meta.contributor_website.unique()\n",
    "g3.meta"
   ]
  },
  {
   "cell_type": "markdown",
   "id": "fdf5ef9f",
   "metadata": {},
   "source": [
    "### normalize name, lon, lat"
   ]
  },
  {
   "cell_type": "code",
   "execution_count": null,
   "id": "0b414ca0",
   "metadata": {},
   "outputs": [],
   "source": [
    "coops = coops.rename(columns={'name':'Station_Name','lon':'longitude','lat':'latitude'})\n",
    "coops['coops_id'] = coops['Station_Name']"
   ]
  },
  {
   "cell_type": "code",
   "execution_count": null,
   "id": "5f35604d",
   "metadata": {},
   "outputs": [],
   "source": [
    "ioc_stations = ioc_stations.rename(columns={'location':'Station_Name','lon':'longitude','lat':'latitude'})\n",
    "ioc_stations['ioc_id'] = ioc_stations['Station_Name'] "
   ]
  },
  {
   "cell_type": "code",
   "execution_count": null,
   "id": "49e0afb5",
   "metadata": {},
   "outputs": [],
   "source": [
    "cmems = cmems.rename(columns={'PLATFORM_NAME':'Station_Name','longitude (degrees_east)':'longitude','latitude (degrees_north)':'latitude'})\n",
    "cmems['cmems_id'] = cmems['Station_Name'] "
   ]
  },
  {
   "cell_type": "code",
   "execution_count": null,
   "id": "d81e94f3",
   "metadata": {},
   "outputs": [],
   "source": [
    "emodnet = emodnet.rename(columns={'EP_PLATFORM_CODE':'Station_Name','longitude (degrees_east)':'longitude','latitude (degrees_north)':'latitude'})\n",
    "emodnet['emodnet_id'] = emodnet['Station_Name'] "
   ]
  },
  {
   "cell_type": "code",
   "execution_count": null,
   "id": "594c90ab",
   "metadata": {},
   "outputs": [],
   "source": [
    "gesla3 = g3.meta.rename(columns={'site_name':'Station_Name','longitude':'longitude','latitude':'latitude'})\n",
    "gesla3['gesla3_id'] = gesla3['Station_Name']"
   ]
  },
  {
   "cell_type": "markdown",
   "id": "11630840",
   "metadata": {},
   "source": [
    "## Plot"
   ]
  },
  {
   "cell_type": "code",
   "execution_count": null,
   "id": "78867076",
   "metadata": {},
   "outputs": [],
   "source": [
    "cmems.plot.scatter(x = 'longitude', y = 'latitude', marker='o', label='cmems')\n",
    "a = plt.gca()\n",
    "emodnet.plot.scatter(ax=a, x = 'longitude', y = 'latitude', color='orange', marker='1', label='emodnet')\n",
    "ioc_stations.plot.scatter(ax=a, x = 'longitude', y = 'latitude', color='green', marker='x', label='ioc')\n",
    "coops.plot.scatter(ax=a, x = 'longitude', y = 'latitude', color='cyan', marker='+', label='coops')\n",
    "gesla3.plot.scatter(ax=a, x = 'longitude', y = 'latitude', color='red', marker='.',label='gesla')\n",
    "plt.legend(loc='upper center',bbox_to_anchor=(.5, 1.1), ncol=5)"
   ]
  },
  {
   "cell_type": "markdown",
   "id": "b367335b",
   "metadata": {},
   "source": [
    "## Merge COOPS & ioc_stations"
   ]
  },
  {
   "cell_type": "markdown",
   "id": "b8fa3d11",
   "metadata": {},
   "source": [
    "#### check duplicates"
   ]
  },
  {
   "cell_type": "code",
   "execution_count": null,
   "id": "1288fb99",
   "metadata": {},
   "outputs": [],
   "source": [
    "ioc_ = ioc_stations.loc[ioc_stations.country=='USA']\n",
    "ioc_"
   ]
  },
  {
   "cell_type": "code",
   "execution_count": null,
   "id": "76d1ec1a",
   "metadata": {},
   "outputs": [],
   "source": [
    "ioc_.country.unique()"
   ]
  },
  {
   "cell_type": "code",
   "execution_count": null,
   "id": "8177bae7",
   "metadata": {},
   "outputs": [],
   "source": [
    "m1 = pd.merge(ioc_,coops, on=['Station_Name']).Station_Name"
   ]
  },
  {
   "cell_type": "code",
   "execution_count": null,
   "id": "51666946",
   "metadata": {},
   "outputs": [],
   "source": [
    "m1"
   ]
  },
  {
   "cell_type": "code",
   "execution_count": null,
   "id": "521cba76",
   "metadata": {},
   "outputs": [],
   "source": [
    "i1 = ioc_.loc[ioc_.Station_Name.isin(m1)]\n",
    "i1 = i1.drop_duplicates(['Station_Name']).reset_index(drop=True)\n",
    "i1 = i1.sort_values('Station_Name').reset_index(drop=True)\n",
    "i1"
   ]
  },
  {
   "cell_type": "code",
   "execution_count": null,
   "id": "94c3cf27",
   "metadata": {},
   "outputs": [],
   "source": [
    "g1 = coops.loc[coops.Station_Name.isin(m1)]\n",
    "g1 = g1.sort_values('Station_Name').reset_index(drop=True)\n",
    "g1"
   ]
  },
  {
   "cell_type": "markdown",
   "id": "3f9e48d5",
   "metadata": {},
   "source": [
    "### Lat/Lon differences"
   ]
  },
  {
   "cell_type": "code",
   "execution_count": null,
   "id": "0e28b04d",
   "metadata": {},
   "outputs": [],
   "source": [
    "np.abs(i1.longitude - g1.longitude).max()"
   ]
  },
  {
   "cell_type": "code",
   "execution_count": null,
   "id": "a0f42b0f",
   "metadata": {},
   "outputs": [],
   "source": [
    "np.abs(i1.latitude - g1.latitude).max()"
   ]
  },
  {
   "cell_type": "code",
   "execution_count": null,
   "id": "321ea8e2",
   "metadata": {},
   "outputs": [],
   "source": [
    "ioc_stations.plot.scatter(x = 'longitude', y = 'latitude', color='green', marker='x', label='ioc')\n",
    "a = plt.gca()\n",
    "coops.plot.scatter(ax=a, x = 'longitude', y = 'latitude', color='cyan', marker='+', label='coops')\n",
    "\n",
    "plt.scatter(x=i1.longitude, y=i1.latitude, s=80, facecolors='none', edgecolors='r', label='common')\n",
    "plt.legend(loc='upper center',bbox_to_anchor=(.5, 1.1), ncol=10)\n",
    "plt.tight_layout()"
   ]
  },
  {
   "cell_type": "code",
   "execution_count": null,
   "id": "99cd129e",
   "metadata": {},
   "outputs": [],
   "source": [
    "unique = coops[~coops.Station_Name.isin(m1)]\n",
    "unique"
   ]
  },
  {
   "cell_type": "markdown",
   "id": "ef6a3e4c",
   "metadata": {},
   "source": [
    "#### normalize country column"
   ]
  },
  {
   "cell_type": "code",
   "execution_count": null,
   "id": "5fdebba8",
   "metadata": {},
   "outputs": [],
   "source": [
    "ioc_stations = ioc_stations.rename(columns={'country':'Country'})"
   ]
  },
  {
   "cell_type": "code",
   "execution_count": null,
   "id": "39afa6fd",
   "metadata": {},
   "outputs": [],
   "source": [
    "coops['Country'] = 'United States'"
   ]
  },
  {
   "cell_type": "code",
   "execution_count": null,
   "id": "d8317537",
   "metadata": {},
   "outputs": [],
   "source": [
    "catalog = pd.concat([ioc_stations, coops], ignore_index=True)\n",
    "catalog.reset_index(inplace=True,drop=True)\n",
    "catalog"
   ]
  },
  {
   "cell_type": "markdown",
   "id": "e628e1be",
   "metadata": {},
   "source": [
    "### test it"
   ]
  },
  {
   "cell_type": "code",
   "execution_count": null,
   "id": "00a904ed",
   "metadata": {},
   "outputs": [],
   "source": [
    "minlat = g1.latitude.min(),\n",
    "maxlat = g1.latitude.max(),\n",
    "minlon = g1.longitude.min(),\n",
    "maxlon = g1.longitude.max(),"
   ]
  },
  {
   "cell_type": "code",
   "execution_count": null,
   "id": "49da081e",
   "metadata": {},
   "outputs": [],
   "source": [
    "w = catalog.loc[(catalog['longitude'] > minlon) & (catalog['longitude'] < maxlon) & (catalog['latitude'] > minlat) & (catalog['latitude'] < maxlat)]"
   ]
  },
  {
   "cell_type": "code",
   "execution_count": null,
   "id": "a9415be7",
   "metadata": {},
   "outputs": [],
   "source": [
    "w.reset_index(inplace=True, drop=True)"
   ]
  },
  {
   "cell_type": "code",
   "execution_count": null,
   "id": "735890c8",
   "metadata": {},
   "outputs": [],
   "source": [
    "w"
   ]
  },
  {
   "cell_type": "code",
   "execution_count": null,
   "id": "5fbf67c4",
   "metadata": {},
   "outputs": [],
   "source": [
    "w.loc[~w.ioc_code.isna()] # these can be downloaded from IOC"
   ]
  },
  {
   "cell_type": "code",
   "execution_count": null,
   "id": "6b1f3567",
   "metadata": {},
   "outputs": [],
   "source": [
    "w.loc[~w.nws_id.isna()] # these can be downloaded from COOPS"
   ]
  },
  {
   "cell_type": "code",
   "execution_count": null,
   "id": "1a8f2f2a",
   "metadata": {},
   "outputs": [],
   "source": [
    "w[w.duplicated('Station_Name')] # these can be downloaded from both"
   ]
  },
  {
   "cell_type": "markdown",
   "id": "fc996db3",
   "metadata": {},
   "source": [
    "#### check duplicates with CMEMS"
   ]
  },
  {
   "cell_type": "code",
   "execution_count": null,
   "id": "7000c51b",
   "metadata": {},
   "outputs": [],
   "source": [
    "d = cmems.Station_Name.isin(catalog.Station_Name)\n",
    "d.sum()"
   ]
  },
  {
   "cell_type": "code",
   "execution_count": null,
   "id": "4682da47",
   "metadata": {},
   "outputs": [],
   "source": [
    "db2 = cmems[d].sort_values('Station_Name')\n",
    "db2 = db2.reset_index(drop=True)\n",
    "db2 = db2.drop_duplicates('Station_Name')\n",
    "db2 = db2[~db2.Station_Name.isna()]"
   ]
  },
  {
   "cell_type": "code",
   "execution_count": null,
   "id": "c84bbb29",
   "metadata": {},
   "outputs": [],
   "source": [
    "db2_ = catalog.loc[catalog.Station_Name.isin(cmems[d].Station_Name)].sort_values('Station_Name')\n",
    "db2_ = db2_.drop_duplicates('Station_Name')\n",
    "db2_ = db2_.reset_index(drop=True)\n",
    "db2_ = db2_[~db2_.Station_Name.isna()]"
   ]
  },
  {
   "cell_type": "markdown",
   "id": "6317156c",
   "metadata": {},
   "source": [
    "### Lat/Lon differences"
   ]
  },
  {
   "cell_type": "code",
   "execution_count": null,
   "id": "35d19b6b",
   "metadata": {},
   "outputs": [],
   "source": [
    "np.abs(db2.longitude.values - db2_.longitude.values).max()"
   ]
  },
  {
   "cell_type": "code",
   "execution_count": null,
   "id": "f91ade24",
   "metadata": {},
   "outputs": [],
   "source": [
    "np.abs(db2.latitude.values - db2_.latitude.values).max()"
   ]
  },
  {
   "cell_type": "code",
   "execution_count": null,
   "id": "9a46cd5a",
   "metadata": {},
   "outputs": [],
   "source": [
    "db2.longitude - db2_.longitude"
   ]
  },
  {
   "cell_type": "code",
   "execution_count": null,
   "id": "88e38bce",
   "metadata": {},
   "outputs": [],
   "source": [
    "db2"
   ]
  },
  {
   "cell_type": "code",
   "execution_count": null,
   "id": "dd131d01",
   "metadata": {},
   "outputs": [],
   "source": [
    "mf = (np.abs(db2.longitude - db2_.longitude)<.1)"
   ]
  },
  {
   "cell_type": "code",
   "execution_count": null,
   "id": "45e144e0",
   "metadata": {},
   "outputs": [],
   "source": [
    "db2[~mf]"
   ]
  },
  {
   "cell_type": "code",
   "execution_count": null,
   "id": "69c5e2b7",
   "metadata": {},
   "outputs": [],
   "source": [
    "db2_[~mf]"
   ]
  },
  {
   "cell_type": "code",
   "execution_count": null,
   "id": "7d063dba",
   "metadata": {},
   "outputs": [],
   "source": [
    "db2 = db2[mf]\n",
    "db2_ = db2_[mf]"
   ]
  },
  {
   "cell_type": "code",
   "execution_count": null,
   "id": "37a0ff85",
   "metadata": {},
   "outputs": [],
   "source": [
    "ioc_stations.plot.scatter(x = 'longitude', y = 'latitude', color='green', marker='x', label='ioc')\n",
    "a = plt.gca()\n",
    "coops.plot.scatter(ax=a, x = 'longitude', y = 'latitude', color='cyan', marker='+', label='coops')\n",
    "cmems.plot.scatter(ax=a, x = 'longitude', y = 'latitude', marker='o', label='cmems')\n",
    "plt.scatter(x=db2.longitude, y=db2.latitude, s=80, facecolors='none', edgecolors='r', label='common')\n",
    "plt.legend(loc='upper center',bbox_to_anchor=(.5, 1.1), ncol=4)"
   ]
  },
  {
   "cell_type": "markdown",
   "id": "bef2a84d",
   "metadata": {},
   "source": [
    "### merge cmems"
   ]
  },
  {
   "cell_type": "code",
   "execution_count": null,
   "id": "6ab49f0e",
   "metadata": {},
   "outputs": [],
   "source": [
    "catalog = pd.concat([catalog, cmems], ignore_index=True)\n",
    "\n",
    "catalog.reset_index(inplace=True,drop=True)\n",
    "catalog"
   ]
  },
  {
   "cell_type": "markdown",
   "id": "70592597",
   "metadata": {},
   "source": [
    "### test IOC and CMEMS data"
   ]
  },
  {
   "cell_type": "code",
   "execution_count": null,
   "id": "6918d499",
   "metadata": {},
   "outputs": [],
   "source": [
    "cc = catalog.loc[catalog.Station_Name.isin(db2_.Station_Name)]"
   ]
  },
  {
   "cell_type": "code",
   "execution_count": null,
   "id": "f0c3668b",
   "metadata": {},
   "outputs": [],
   "source": [
    "test = cc.loc[cc.Station_Name==\"Bangor\"]\n",
    "test = test.rename(columns={'longitude':'lon','latitude':'lat','Country':'country','Station_Name':'location'})"
   ]
  },
  {
   "cell_type": "markdown",
   "id": "8fd158c5",
   "metadata": {},
   "source": [
    "#### IOC"
   ]
  },
  {
   "cell_type": "code",
   "execution_count": null,
   "id": "b806ac86",
   "metadata": {},
   "outputs": [],
   "source": [
    "url = \"http://www.ioc-sealevelmonitoring.org/bgraph.php?code={}&output=tab&period=30&endtime={}\".format('bang','2023-7-30') # use IOC code value\n",
    "url"
   ]
  },
  {
   "cell_type": "code",
   "execution_count": null,
   "id": "232c98f2",
   "metadata": {},
   "outputs": [],
   "source": [
    "data = ioc.get_ioc_data(\n",
    "    ioc_metadata=test,\n",
    "    endtime=\"2023-08-30\",\n",
    "    period=30,\n",
    ")\n",
    "data = data.to_dataframe().reset_index(level= 'ioc_code',drop=True)\n",
    "data = data.rename(columns={'bub':'slev','lon':'longitude','lat':'latitude','country':'Country','location':'Station_Name'})\n",
    "data = data['slev']\n",
    "data"
   ]
  },
  {
   "cell_type": "markdown",
   "id": "203cb7b4",
   "metadata": {},
   "source": [
    "#### CMEMS"
   ]
  },
  {
   "cell_type": "code",
   "execution_count": null,
   "id": "8385212c",
   "metadata": {},
   "outputs": [],
   "source": [
    "from erddapy import ERDDAP\n",
    "\n",
    "e = ERDDAP(\n",
    "  server=\"https://nrt.cmems-du.eu/erddap\",\n",
    "  protocol=\"tabledap\",\n",
    ")\n"
   ]
  },
  {
   "cell_type": "code",
   "execution_count": null,
   "id": "73b7043d",
   "metadata": {},
   "outputs": [],
   "source": [
    "e.dataset_id = 'copernicus_GLO_insitu_nrt_TG'"
   ]
  },
  {
   "cell_type": "code",
   "execution_count": null,
   "id": "e80df627",
   "metadata": {},
   "outputs": [],
   "source": [
    "e.constraints = {\n",
    "    \"time>=\": \"2023-07-30 T00:00:00Z\",\n",
    "    \"time<=\": \"2023-08-30 T00:00:00Z\",\n",
    "    \"PLATFORM_CODE=\": \"Bangor\",\n",
    "}\n"
   ]
  },
  {
   "cell_type": "code",
   "execution_count": null,
   "id": "6a4dcee6",
   "metadata": {},
   "outputs": [],
   "source": [
    "e.variables = [\n",
    "    \"time\",\n",
    "    \"SLEV\"\n",
    "]\n"
   ]
  },
  {
   "cell_type": "code",
   "execution_count": null,
   "id": "ee8a2e3e",
   "metadata": {},
   "outputs": [],
   "source": [
    "df = e.to_pandas()#low_memory=False)\n",
    "\n",
    "df['time (UTC)'] = pd.DatetimeIndex(df['time (UTC)'])\n",
    "df = df.set_index('time (UTC)')\n",
    "\n",
    "df.index = df.index.tz_convert(None)\n",
    "df.columns = ['slev']\n",
    "df['slev'] = df['slev'].apply(pd.to_numeric)\n",
    "df"
   ]
  },
  {
   "cell_type": "code",
   "execution_count": null,
   "id": "777f3f57",
   "metadata": {},
   "outputs": [],
   "source": [
    "(data['2023-07-01 0:0:0':'2022-07-29 0:0:0'] - df['2023-07-01 0:0:0':'2023-07-30 0:0:0']).max()"
   ]
  },
  {
   "cell_type": "code",
   "execution_count": null,
   "id": "92bf6957",
   "metadata": {},
   "outputs": [],
   "source": [
    "df.plot()\n",
    "p=plt.gca()\n",
    "data.plot(ax=p, linestyle='--')\n",
    "plt.legend(['cmems','ioc'])"
   ]
  },
  {
   "cell_type": "markdown",
   "id": "1bfe721a",
   "metadata": {},
   "source": [
    "#### check duplicates with EMODNET"
   ]
  },
  {
   "cell_type": "code",
   "execution_count": null,
   "id": "7c768558",
   "metadata": {},
   "outputs": [],
   "source": [
    "de = emodnet.Station_Name.isin(catalog.Station_Name)\n",
    "de.sum()"
   ]
  },
  {
   "cell_type": "markdown",
   "id": "31b25c11",
   "metadata": {},
   "source": [
    "### merge emodnet"
   ]
  },
  {
   "cell_type": "code",
   "execution_count": null,
   "id": "b793da06",
   "metadata": {},
   "outputs": [],
   "source": [
    "catalog = pd.concat([catalog,emodnet], ignore_index=True)\n",
    "\n",
    "catalog"
   ]
  },
  {
   "cell_type": "markdown",
   "id": "fb29cce7",
   "metadata": {},
   "source": [
    "## Merge GESLA3"
   ]
  },
  {
   "cell_type": "code",
   "execution_count": null,
   "id": "6bd08cbf",
   "metadata": {},
   "outputs": [],
   "source": [
    "m2 = pd.merge(catalog,gesla3, on=['Station_Name']).Station_Name\n",
    "m2"
   ]
  },
  {
   "cell_type": "code",
   "execution_count": null,
   "id": "8e21644e",
   "metadata": {},
   "outputs": [],
   "source": [
    "i2 = catalog.loc[catalog.Station_Name.isin(m2)]\n",
    "i2 = i2.drop_duplicates(['Station_Name']).reset_index(drop=True)\n",
    "i2 = i2.sort_values('Station_Name').reset_index(drop=True)\n",
    "i2"
   ]
  },
  {
   "cell_type": "code",
   "execution_count": null,
   "id": "0354a709",
   "metadata": {},
   "outputs": [],
   "source": [
    "g2 = gesla3.loc[gesla3.Station_Name.isin(m2)]\n",
    "g2 = g2.sort_values('Station_Name').reset_index(drop=True)\n",
    "g2"
   ]
  },
  {
   "cell_type": "code",
   "execution_count": null,
   "id": "5c008a16",
   "metadata": {},
   "outputs": [],
   "source": [
    "print(np.abs(i2.longitude - g2.longitude).max())\n",
    "print(np.abs(i2.latitude - g2.latitude).max())"
   ]
  },
  {
   "cell_type": "code",
   "execution_count": null,
   "id": "fb1e8dbd",
   "metadata": {},
   "outputs": [],
   "source": [
    "catalog.plot.scatter(x = 'longitude', y = 'latitude', color='green', marker='x', label='catalog')\n",
    "a = plt.gca()\n",
    "gesla3.plot.scatter(ax=a, x = 'longitude', y = 'latitude', color='cyan', marker='+', label='gesla3')\n",
    "\n",
    "plt.scatter(x=i2.longitude, y=i2.latitude, s=80, facecolors='none', edgecolors='r', label='common')\n",
    "plt.legend(loc='upper center',bbox_to_anchor=(.5, 1.1), ncol=10)\n",
    "plt.tight_layout()"
   ]
  },
  {
   "cell_type": "code",
   "execution_count": null,
   "id": "8dc10ae3",
   "metadata": {},
   "outputs": [],
   "source": [
    "unique = gesla3[~gesla3.Station_Name.isin(m2)]\n",
    "unique"
   ]
  },
  {
   "cell_type": "code",
   "execution_count": null,
   "id": "c77ccd9f",
   "metadata": {},
   "outputs": [],
   "source": [
    "gesla3 = gesla3.rename(columns={'country':'Country'})"
   ]
  },
  {
   "cell_type": "code",
   "execution_count": null,
   "id": "3e4271d6",
   "metadata": {},
   "outputs": [],
   "source": [
    "catalog = pd.concat([catalog, gesla3],ignore_index=True)\n",
    "catalog"
   ]
  },
  {
   "cell_type": "code",
   "execution_count": null,
   "id": "4f6bf9ba",
   "metadata": {},
   "outputs": [],
   "source": [
    "catalog.duplicated('Station_Name').sum()"
   ]
  },
  {
   "cell_type": "markdown",
   "id": "2ea51a43",
   "metadata": {},
   "source": [
    "# Merge all the data together "
   ]
  },
  {
   "cell_type": "code",
   "execution_count": null,
   "id": "2156e0d3",
   "metadata": {},
   "outputs": [],
   "source": [
    "grouped_df = catalog.groupby('Station_Name', as_index=False).agg(lambda x: x.dropna().iloc[0] if x.notna().any() else pd.NA)"
   ]
  },
  {
   "cell_type": "code",
   "execution_count": null,
   "id": "96f3a27e",
   "metadata": {},
   "outputs": [],
   "source": [
    "grouped_df"
   ]
  },
  {
   "cell_type": "markdown",
   "id": "2fb1a0c1",
   "metadata": {},
   "source": [
    "## keep providers info"
   ]
  },
  {
   "cell_type": "code",
   "execution_count": null,
   "id": "5a804493",
   "metadata": {},
   "outputs": [],
   "source": [
    "provs = ['ioc', 'coops', 'emodnet', 'cmems', 'gesla3']\n",
    "N_prov = len(provs)"
   ]
  },
  {
   "cell_type": "code",
   "execution_count": null,
   "id": "4419c634",
   "metadata": {},
   "outputs": [],
   "source": [
    "import itertools\n",
    "from matplotlib.pyplot import cm\n",
    "fact = 1\n",
    "for i in range(1, N_prov):\n",
    "    fact = fact * i\n",
    "\n",
    "print(fact, 'combinations of providers possible')\n",
    "\n",
    "color = iter(cm.tab20(np.linspace(0, 1, 16)))\n",
    "fix, ax = plt.subplots(figsize=(20,10))\n",
    "plt.tight_layout()\n",
    "for ii in range(5)[1:]:\n",
    "    combs = itertools.combinations(provs, ii)\n",
    "    for comb in list(combs):\n",
    "        subset_id = [p + '_id' for p in list(comb)]\n",
    "        subset_df = grouped_df.dropna(how=\"any\", subset=subset_id)\n",
    "        if len(subset_df) > 0:\n",
    "            c = next(color).reshape(1,-1)\n",
    "            subset_df.plot.scatter(ax=ax, x='longitude',y='latitude',label='-'.join(comb),color=c)\n",
    "ax.legend()"
   ]
  },
  {
   "cell_type": "code",
   "execution_count": null,
   "id": "f7e00f6f",
   "metadata": {},
   "outputs": [],
   "source": [
    "grouped_df = grouped_df.sort_values(['Country', 'Station_Name', 'longitude', 'latitude']).reset_index(drop=True)\n",
    "grouped_df['seaset_id'] = grouped_df.index"
   ]
  },
  {
   "cell_type": "code",
   "execution_count": null,
   "id": "007e2231",
   "metadata": {},
   "outputs": [],
   "source": [
    "grouped_df.to_csv('catalog_full.csv')\n",
    "grouped_df"
   ]
  },
  {
   "cell_type": "markdown",
   "id": "3c3bf81c",
   "metadata": {},
   "source": [
    "## Minimize the dataset and regroup stations at the same location"
   ]
  },
  {
   "cell_type": "code",
   "execution_count": null,
   "id": "81b2597d",
   "metadata": {},
   "outputs": [],
   "source": [
    "grouped_df.duplicated(['latitude','longitude']).sum() #there are duplicates"
   ]
  },
  {
   "cell_type": "code",
   "execution_count": null,
   "id": "186fbe97",
   "metadata": {},
   "outputs": [],
   "source": [
    "dmask = grouped_df.duplicated(['latitude','longitude'], keep = False)"
   ]
  },
  {
   "cell_type": "code",
   "execution_count": null,
   "id": "9862a366",
   "metadata": {},
   "outputs": [],
   "source": [
    "s1 = grouped_df.drop_duplicates(['latitude','longitude'])"
   ]
  },
  {
   "cell_type": "code",
   "execution_count": null,
   "id": "ebb3d01f",
   "metadata": {},
   "outputs": [],
   "source": [
    "s2 = s1.sort_values(['latitude','longitude'])"
   ]
  },
  {
   "cell_type": "code",
   "execution_count": null,
   "id": "a2faf734",
   "metadata": {},
   "outputs": [],
   "source": [
    "ds = s2[['latitude','longitude']].diff() < [0.02,0.02]"
   ]
  },
  {
   "cell_type": "code",
   "execution_count": null,
   "id": "079f2255",
   "metadata": {},
   "outputs": [],
   "source": [
    "ds_ = ds.all(axis='columns') # get where you match both lat/lon"
   ]
  },
  {
   "cell_type": "code",
   "execution_count": null,
   "id": "17522a72",
   "metadata": {},
   "outputs": [],
   "source": [
    "s2[ds_ | ds_.shift(-1)]"
   ]
  },
  {
   "cell_type": "code",
   "execution_count": null,
   "id": "2e850cad",
   "metadata": {},
   "outputs": [],
   "source": [
    "dps = s2[ds_ | ds_.shift(-1)].index.tolist()[::2] #find which indices to drop"
   ]
  },
  {
   "cell_type": "code",
   "execution_count": null,
   "id": "b732e0f1",
   "metadata": {},
   "outputs": [],
   "source": [
    "s3 = s2.drop(dps)"
   ]
  },
  {
   "cell_type": "code",
   "execution_count": null,
   "id": "bf89794d",
   "metadata": {},
   "outputs": [],
   "source": [
    "s3.duplicated('Station_Name').sum()\n",
    "s3"
   ]
  },
  {
   "cell_type": "code",
   "execution_count": null,
   "id": "634a652c",
   "metadata": {},
   "outputs": [],
   "source": [
    "s3.to_csv('catalog_minimal.csv')"
   ]
  }
 ],
 "metadata": {
  "kernelspec": {
   "display_name": "dev",
   "language": "python",
   "name": "dev"
  },
  "language_info": {
   "codemirror_mode": {
    "name": "ipython",
    "version": 3
   },
   "file_extension": ".py",
   "mimetype": "text/x-python",
   "name": "python",
   "nbconvert_exporter": "python",
   "pygments_lexer": "ipython3",
   "version": "3.9.13"
  }
 },
 "nbformat": 4,
 "nbformat_minor": 5
}
